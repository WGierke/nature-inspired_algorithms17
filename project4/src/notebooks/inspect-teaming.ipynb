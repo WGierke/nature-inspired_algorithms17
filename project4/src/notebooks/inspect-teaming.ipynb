{
 "cells": [
  {
   "cell_type": "code",
   "execution_count": 1,
   "metadata": {
    "collapsed": true
   },
   "outputs": [],
   "source": [
    "import pandas as pd\n",
    "from collections import Counter\n",
    "import math"
   ]
  },
  {
   "cell_type": "code",
   "execution_count": 2,
   "metadata": {},
   "outputs": [
    {
     "data": {
      "text/html": [
       "<div>\n",
       "<style>\n",
       "    .dataframe thead tr:only-child th {\n",
       "        text-align: right;\n",
       "    }\n",
       "\n",
       "    .dataframe thead th {\n",
       "        text-align: left;\n",
       "    }\n",
       "\n",
       "    .dataframe tbody tr th {\n",
       "        vertical-align: top;\n",
       "    }\n",
       "</style>\n",
       "<table border=\"1\" class=\"dataframe\">\n",
       "  <thead>\n",
       "    <tr style=\"text-align: right;\">\n",
       "      <th></th>\n",
       "      <th>hash</th>\n",
       "      <th>Sex</th>\n",
       "      <th>Discipline</th>\n",
       "      <th>Nationality</th>\n",
       "      <th>Semester</th>\n",
       "    </tr>\n",
       "  </thead>\n",
       "  <tbody>\n",
       "    <tr>\n",
       "      <th>0</th>\n",
       "      <td>59ec0b057eedda06d9d6b624f8e44c93</td>\n",
       "      <td>f</td>\n",
       "      <td>Business</td>\n",
       "      <td>Sri Lankan</td>\n",
       "      <td>WT-15</td>\n",
       "    </tr>\n",
       "    <tr>\n",
       "      <th>1</th>\n",
       "      <td>1d7d77b5a1211746723dce012152b763</td>\n",
       "      <td>m</td>\n",
       "      <td>Life Sciences</td>\n",
       "      <td>German</td>\n",
       "      <td>WT-15</td>\n",
       "    </tr>\n",
       "    <tr>\n",
       "      <th>2</th>\n",
       "      <td>82c778ace992789d990201847ec0e493</td>\n",
       "      <td>f</td>\n",
       "      <td>Social Sciences</td>\n",
       "      <td>German</td>\n",
       "      <td>WT-15</td>\n",
       "    </tr>\n",
       "    <tr>\n",
       "      <th>3</th>\n",
       "      <td>b6b46b3be7a6db0261ed697030962129</td>\n",
       "      <td>f</td>\n",
       "      <td>Business</td>\n",
       "      <td>French</td>\n",
       "      <td>WT-15</td>\n",
       "    </tr>\n",
       "    <tr>\n",
       "      <th>4</th>\n",
       "      <td>a09625f8f1ddd73adeb6db620222c2c6</td>\n",
       "      <td>m</td>\n",
       "      <td>Humanities</td>\n",
       "      <td>German</td>\n",
       "      <td>WT-15</td>\n",
       "    </tr>\n",
       "  </tbody>\n",
       "</table>\n",
       "</div>"
      ],
      "text/plain": [
       "                               hash Sex       Discipline Nationality Semester\n",
       "0  59ec0b057eedda06d9d6b624f8e44c93   f         Business  Sri Lankan    WT-15\n",
       "1  1d7d77b5a1211746723dce012152b763   m    Life Sciences      German    WT-15\n",
       "2  82c778ace992789d990201847ec0e493   f  Social Sciences      German    WT-15\n",
       "3  b6b46b3be7a6db0261ed697030962129   f         Business      French    WT-15\n",
       "4  a09625f8f1ddd73adeb6db620222c2c6   m       Humanities      German    WT-15"
      ]
     },
     "execution_count": 2,
     "metadata": {},
     "output_type": "execute_result"
    }
   ],
   "source": [
    "teaming = pd.read_csv('../results/20170725-125805/teaming1.out', header=None, names=['hash','team','semester'])\n",
    "data = pd.read_csv('../project4.csv')\n",
    "data.head()"
   ]
  },
  {
   "cell_type": "code",
   "execution_count": 3,
   "metadata": {},
   "outputs": [
    {
     "data": {
      "text/html": [
       "<div>\n",
       "<style>\n",
       "    .dataframe thead tr:only-child th {\n",
       "        text-align: right;\n",
       "    }\n",
       "\n",
       "    .dataframe thead th {\n",
       "        text-align: left;\n",
       "    }\n",
       "\n",
       "    .dataframe tbody tr th {\n",
       "        vertical-align: top;\n",
       "    }\n",
       "</style>\n",
       "<table border=\"1\" class=\"dataframe\">\n",
       "  <thead>\n",
       "    <tr style=\"text-align: right;\">\n",
       "      <th></th>\n",
       "      <th>hash</th>\n",
       "      <th>team</th>\n",
       "      <th>semester</th>\n",
       "    </tr>\n",
       "  </thead>\n",
       "  <tbody>\n",
       "    <tr>\n",
       "      <th>0</th>\n",
       "      <td>58f15d2b9b461bc55420caeeeef6d22a</td>\n",
       "      <td>0</td>\n",
       "      <td>ST-16</td>\n",
       "    </tr>\n",
       "    <tr>\n",
       "      <th>1</th>\n",
       "      <td>72ba7c279977dfc690e11b75dc1fba5c</td>\n",
       "      <td>0</td>\n",
       "      <td>ST-16</td>\n",
       "    </tr>\n",
       "    <tr>\n",
       "      <th>2</th>\n",
       "      <td>d28f3ce8a77fc7a7b840726d3b6fb200</td>\n",
       "      <td>0</td>\n",
       "      <td>ST-16</td>\n",
       "    </tr>\n",
       "    <tr>\n",
       "      <th>3</th>\n",
       "      <td>d1709e5f4636121ba142156547c39e57</td>\n",
       "      <td>0</td>\n",
       "      <td>ST-16</td>\n",
       "    </tr>\n",
       "    <tr>\n",
       "      <th>4</th>\n",
       "      <td>eace21281285a59c78e17eb3a0211e0c</td>\n",
       "      <td>0</td>\n",
       "      <td>ST-16</td>\n",
       "    </tr>\n",
       "  </tbody>\n",
       "</table>\n",
       "</div>"
      ],
      "text/plain": [
       "                               hash  team semester\n",
       "0  58f15d2b9b461bc55420caeeeef6d22a     0    ST-16\n",
       "1  72ba7c279977dfc690e11b75dc1fba5c     0    ST-16\n",
       "2  d28f3ce8a77fc7a7b840726d3b6fb200     0    ST-16\n",
       "3  d1709e5f4636121ba142156547c39e57     0    ST-16\n",
       "4  eace21281285a59c78e17eb3a0211e0c     0    ST-16"
      ]
     },
     "execution_count": 3,
     "metadata": {},
     "output_type": "execute_result"
    }
   ],
   "source": [
    "teaming.head()"
   ]
  },
  {
   "cell_type": "code",
   "execution_count": 4,
   "metadata": {
    "scrolled": false
   },
   "outputs": [
    {
     "data": {
      "text/html": [
       "<div>\n",
       "<style>\n",
       "    .dataframe thead tr:only-child th {\n",
       "        text-align: right;\n",
       "    }\n",
       "\n",
       "    .dataframe thead th {\n",
       "        text-align: left;\n",
       "    }\n",
       "\n",
       "    .dataframe tbody tr th {\n",
       "        vertical-align: top;\n",
       "    }\n",
       "</style>\n",
       "<table border=\"1\" class=\"dataframe\">\n",
       "  <thead>\n",
       "    <tr style=\"text-align: right;\">\n",
       "      <th></th>\n",
       "      <th>team</th>\n",
       "      <th>Sex</th>\n",
       "      <th>Discipline</th>\n",
       "      <th>Nationality</th>\n",
       "      <th>Semester</th>\n",
       "    </tr>\n",
       "  </thead>\n",
       "  <tbody>\n",
       "    <tr>\n",
       "      <th>0</th>\n",
       "      <td>0</td>\n",
       "      <td>f</td>\n",
       "      <td>Social Sciences</td>\n",
       "      <td>German</td>\n",
       "      <td>ST-16</td>\n",
       "    </tr>\n",
       "    <tr>\n",
       "      <th>1</th>\n",
       "      <td>0</td>\n",
       "      <td>f</td>\n",
       "      <td>Creative Disciplines</td>\n",
       "      <td>German</td>\n",
       "      <td>ST-16</td>\n",
       "    </tr>\n",
       "    <tr>\n",
       "      <th>2</th>\n",
       "      <td>0</td>\n",
       "      <td>f</td>\n",
       "      <td>Social Sciences</td>\n",
       "      <td>Japanese</td>\n",
       "      <td>ST-16</td>\n",
       "    </tr>\n",
       "    <tr>\n",
       "      <th>3</th>\n",
       "      <td>0</td>\n",
       "      <td>m</td>\n",
       "      <td>Social Sciences</td>\n",
       "      <td>German</td>\n",
       "      <td>ST-16</td>\n",
       "    </tr>\n",
       "    <tr>\n",
       "      <th>4</th>\n",
       "      <td>0</td>\n",
       "      <td>m</td>\n",
       "      <td>Engineering</td>\n",
       "      <td>Argentine</td>\n",
       "      <td>ST-16</td>\n",
       "    </tr>\n",
       "  </tbody>\n",
       "</table>\n",
       "</div>"
      ],
      "text/plain": [
       "   team Sex            Discipline Nationality Semester\n",
       "0     0   f       Social Sciences      German    ST-16\n",
       "1     0   f  Creative Disciplines      German    ST-16\n",
       "2     0   f       Social Sciences    Japanese    ST-16\n",
       "3     0   m       Social Sciences      German    ST-16\n",
       "4     0   m           Engineering   Argentine    ST-16"
      ]
     },
     "execution_count": 4,
     "metadata": {},
     "output_type": "execute_result"
    }
   ],
   "source": [
    "teams = pd.merge(teaming, data, on='hash')[['team', 'Sex', 'Discipline', 'Nationality', 'Semester']]\n",
    "teams.head()"
   ]
  },
  {
   "cell_type": "code",
   "execution_count": 5,
   "metadata": {},
   "outputs": [
    {
     "data": {
      "text/plain": [
       "79"
      ]
     },
     "execution_count": 5,
     "metadata": {},
     "output_type": "execute_result"
    }
   ],
   "source": [
    "len(teams[teams['Nationality'] != 'German'])"
   ]
  },
  {
   "cell_type": "code",
   "execution_count": 6,
   "metadata": {},
   "outputs": [
    {
     "data": {
      "text/plain": [
       "Engineering             88\n",
       "Business                85\n",
       "Social Sciences         43\n",
       "Creative Disciplines    36\n",
       "Life Sciences           30\n",
       "Humanities              24\n",
       "Media                   17\n",
       "Name: Discipline, dtype: int64"
      ]
     },
     "execution_count": 6,
     "metadata": {},
     "output_type": "execute_result"
    }
   ],
   "source": [
    "teams['Discipline'].value_counts()"
   ]
  },
  {
   "cell_type": "code",
   "execution_count": 7,
   "metadata": {},
   "outputs": [
    {
     "data": {
      "text/plain": [
       "German                        244\n",
       "Chilean                         7\n",
       "Italian                         6\n",
       "Dutch or Netherlandish          5\n",
       "American or US                  5\n",
       "Danish                          4\n",
       "Russian                         4\n",
       "Austrian                        3\n",
       "Indian                          3\n",
       "Chinese                         3\n",
       "Japanese                        3\n",
       "Argentine                       3\n",
       "Mexican                         3\n",
       "French                          2\n",
       "Brazilian                       2\n",
       "Egyptian                        2\n",
       "Vietnamese                      2\n",
       "Spanish                         2\n",
       "Polish                          2\n",
       "Swiss                           1\n",
       "Luxembourgish                   1\n",
       "Canadian                        1\n",
       "Ecuadorean or Ecuadorian        1\n",
       "German/Vietnamese               1\n",
       "Nepalese                        1\n",
       "Kenyan                          1\n",
       "Moroccan                        1\n",
       "Slovenian (or Slovene)          1\n",
       "Lithuanian                      1\n",
       "British and Northern Irish      1\n",
       "Cuban                           1\n",
       "Macedonian                      1\n",
       "Australian                      1\n",
       "Czech                           1\n",
       "Hungarian                       1\n",
       "Sri Lankan                      1\n",
       "Finnish                         1\n",
       "Name: Nationality, dtype: int64"
      ]
     },
     "execution_count": 7,
     "metadata": {},
     "output_type": "execute_result"
    }
   ],
   "source": [
    "teams['Nationality'].value_counts()"
   ]
  },
  {
   "cell_type": "code",
   "execution_count": 8,
   "metadata": {},
   "outputs": [
    {
     "data": {
      "text/plain": [
       "f    162\n",
       "m    157\n",
       "F      3\n",
       "Name: Sex, dtype: int64"
      ]
     },
     "execution_count": 8,
     "metadata": {},
     "output_type": "execute_result"
    }
   ],
   "source": [
    "teams['Sex'].value_counts()"
   ]
  },
  {
   "cell_type": "code",
   "execution_count": 9,
   "metadata": {
    "collapsed": true
   },
   "outputs": [],
   "source": [
    "def single_entropy(team):\n",
    "    counter = Counter(team)\n",
    "    l = len(team)\n",
    "    return -sum((c/l) * math.log(c/l) for c in counter.values())\n",
    "        \n",
    "def entropy(teams):\n",
    "    return sum(single_entropy(team) for team in teams)\n",
    "\n",
    "def max_entropy(value_map):\n",
    "    n_teams = 16\n",
    "    teams = []\n",
    "    for _ in range(n_teams):\n",
    "        teams.append([])\n",
    "    i = 0\n",
    "    for attr_id, value_count in enumerate(value_map):\n",
    "        base_n = value_count // n_teams\n",
    "        for team in teams:\n",
    "            team.extend([attr_id] * base_n)\n",
    "        value_count = value_count % n_teams\n",
    "        while value_count > 0:\n",
    "            teams[i].append(attr_id)\n",
    "            value_count -= 1\n",
    "            i = (i + 1) % n_teams\n",
    "    return entropy(teams)\n",
    "    \n",
    "\n",
    "def max_entropy_teaming(teaming):\n",
    "    attrs = ['Sex', 'Nationality', 'Discipline']\n",
    "    return sum(max_entropy(teaming[attr].value_counts()) for attr in attrs)\n",
    "\n",
    "def print_entropies(teaming):\n",
    "    attrs = ['Sex', 'Nationality', 'Discipline']\n",
    "    for attr in attrs:\n",
    "        print(attr)\n",
    "        print('no teaming: {:0.4f}'.format(single_entropy(teams[attr].values)))\n",
    "        print('teaming: {:0.4f}'.format(max_entropy(teaming[attr].value_counts())))\n",
    "        print('')\n",
    "    print('total teaming: {:0.4f}'.format(max_entropy_teaming(teaming)))\n"
   ]
  },
  {
   "cell_type": "code",
   "execution_count": 10,
   "metadata": {},
   "outputs": [
    {
     "data": {
      "text/plain": [
       "15.150218430826644"
      ]
     },
     "execution_count": 10,
     "metadata": {},
     "output_type": "execute_result"
    }
   ],
   "source": [
    "max_entropy(teams['Nationality'].value_counts())"
   ]
  },
  {
   "cell_type": "code",
   "execution_count": 11,
   "metadata": {},
   "outputs": [
    {
     "data": {
      "text/plain": [
       "55.098895307025195"
      ]
     },
     "execution_count": 11,
     "metadata": {},
     "output_type": "execute_result"
    }
   ],
   "source": [
    "max_entropy_teaming(teams)"
   ]
  },
  {
   "cell_type": "code",
   "execution_count": 12,
   "metadata": {},
   "outputs": [
    {
     "data": {
      "text/plain": [
       "1.3784000129863025"
      ]
     },
     "execution_count": 12,
     "metadata": {},
     "output_type": "execute_result"
    }
   ],
   "source": [
    "single_entropy(teams['Nationality'].values)"
   ]
  },
  {
   "cell_type": "code",
   "execution_count": 13,
   "metadata": {},
   "outputs": [
    {
     "name": "stdout",
     "output_type": "stream",
     "text": [
      "42.650438082902824\n",
      "43.99573423209929\n",
      "42.19514805803991\n",
      "45.07472937880132\n"
     ]
    }
   ],
   "source": [
    "semesters = teams['Semester'].unique()\n",
    "for sem in semesters:\n",
    "    print(max_entropy_teaming(teams[teams['Semester'] == sem]))"
   ]
  },
  {
   "cell_type": "code",
   "execution_count": null,
   "metadata": {
    "collapsed": true
   },
   "outputs": [],
   "source": []
  }
 ],
 "metadata": {
  "kernelspec": {
   "display_name": "Python 3",
   "language": "python",
   "name": "python3"
  },
  "language_info": {
   "codemirror_mode": {
    "name": "ipython",
    "version": 3
   },
   "file_extension": ".py",
   "mimetype": "text/x-python",
   "name": "python",
   "nbconvert_exporter": "python",
   "pygments_lexer": "ipython3",
   "version": "3.5.2"
  }
 },
 "nbformat": 4,
 "nbformat_minor": 2
}
