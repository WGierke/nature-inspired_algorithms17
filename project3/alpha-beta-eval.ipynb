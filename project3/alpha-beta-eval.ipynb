{
 "cells": [
  {
   "cell_type": "code",
   "execution_count": 51,
   "metadata": {
    "collapsed": false
   },
   "outputs": [],
   "source": [
    "import pandas as pd\n",
    "%matplotlib inline\n",
    "import matplotlib.pyplot as plt\n",
    "import numpy as np\n",
    "import seaborn as sns"
   ]
  },
  {
   "cell_type": "code",
   "execution_count": 52,
   "metadata": {
    "collapsed": false,
    "scrolled": false
   },
   "outputs": [
    {
     "data": {
      "text/html": [
       "<div>\n",
       "<table border=\"1\" class=\"dataframe\">\n",
       "  <thead>\n",
       "    <tr style=\"text-align: right;\">\n",
       "      <th></th>\n",
       "      <th>exec_number</th>\n",
       "      <th>iteration</th>\n",
       "      <th>opt</th>\n",
       "      <th>str_tour</th>\n",
       "      <th>result</th>\n",
       "      <th>iterations</th>\n",
       "      <th>goal</th>\n",
       "      <th>rho</th>\n",
       "      <th>tau_min</th>\n",
       "      <th>tau_max</th>\n",
       "      <th>alpha</th>\n",
       "      <th>beta</th>\n",
       "      <th>deviation</th>\n",
       "    </tr>\n",
       "  </thead>\n",
       "  <tbody>\n",
       "    <tr>\n",
       "      <th>0</th>\n",
       "      <td>0</td>\n",
       "      <td>3</td>\n",
       "      <td>40160</td>\n",
       "      <td>104-120-145-182-183-53-170-45-1-15-153-163-154...</td>\n",
       "      <td>238202</td>\n",
       "      <td>5000</td>\n",
       "      <td>0</td>\n",
       "      <td>0.00495</td>\n",
       "      <td>0.000031</td>\n",
       "      <td>0.995049</td>\n",
       "      <td>0.0</td>\n",
       "      <td>0.0</td>\n",
       "      <td>4.931325</td>\n",
       "    </tr>\n",
       "    <tr>\n",
       "      <th>1</th>\n",
       "      <td>0</td>\n",
       "      <td>2</td>\n",
       "      <td>40160</td>\n",
       "      <td>34-180-87-178-175-108-139-193-134-110-159-122-...</td>\n",
       "      <td>239323</td>\n",
       "      <td>5000</td>\n",
       "      <td>0</td>\n",
       "      <td>0.00495</td>\n",
       "      <td>0.000031</td>\n",
       "      <td>0.995049</td>\n",
       "      <td>0.0</td>\n",
       "      <td>0.0</td>\n",
       "      <td>4.959238</td>\n",
       "    </tr>\n",
       "    <tr>\n",
       "      <th>2</th>\n",
       "      <td>0</td>\n",
       "      <td>4</td>\n",
       "      <td>40160</td>\n",
       "      <td>174-200-16-77-71-6-19-153-123-180-195-182-21-3...</td>\n",
       "      <td>237044</td>\n",
       "      <td>5000</td>\n",
       "      <td>0</td>\n",
       "      <td>0.00495</td>\n",
       "      <td>0.000031</td>\n",
       "      <td>0.995049</td>\n",
       "      <td>0.0</td>\n",
       "      <td>0.0</td>\n",
       "      <td>4.902490</td>\n",
       "    </tr>\n",
       "    <tr>\n",
       "      <th>3</th>\n",
       "      <td>0</td>\n",
       "      <td>1</td>\n",
       "      <td>40160</td>\n",
       "      <td>142-198-131-51-138-162-35-71-30-117-134-113-11...</td>\n",
       "      <td>238431</td>\n",
       "      <td>5000</td>\n",
       "      <td>0</td>\n",
       "      <td>0.00495</td>\n",
       "      <td>0.000025</td>\n",
       "      <td>0.995049</td>\n",
       "      <td>0.0</td>\n",
       "      <td>0.0</td>\n",
       "      <td>4.937027</td>\n",
       "    </tr>\n",
       "    <tr>\n",
       "      <th>4</th>\n",
       "      <td>0</td>\n",
       "      <td>0</td>\n",
       "      <td>40160</td>\n",
       "      <td>34-161-174-177-114-112-169-110-85-79-64-150-13...</td>\n",
       "      <td>238889</td>\n",
       "      <td>5000</td>\n",
       "      <td>0</td>\n",
       "      <td>0.00495</td>\n",
       "      <td>0.000025</td>\n",
       "      <td>0.995049</td>\n",
       "      <td>0.0</td>\n",
       "      <td>0.0</td>\n",
       "      <td>4.948431</td>\n",
       "    </tr>\n",
       "  </tbody>\n",
       "</table>\n",
       "</div>"
      ],
      "text/plain": [
       "   exec_number  iteration    opt  \\\n",
       "0            0          3  40160   \n",
       "1            0          2  40160   \n",
       "2            0          4  40160   \n",
       "3            0          1  40160   \n",
       "4            0          0  40160   \n",
       "\n",
       "                                            str_tour  result  iterations  \\\n",
       "0  104-120-145-182-183-53-170-45-1-15-153-163-154...  238202        5000   \n",
       "1  34-180-87-178-175-108-139-193-134-110-159-122-...  239323        5000   \n",
       "2  174-200-16-77-71-6-19-153-123-180-195-182-21-3...  237044        5000   \n",
       "3  142-198-131-51-138-162-35-71-30-117-134-113-11...  238431        5000   \n",
       "4  34-161-174-177-114-112-169-110-85-79-64-150-13...  238889        5000   \n",
       "\n",
       "   goal      rho   tau_min   tau_max  alpha  beta  deviation  \n",
       "0     0  0.00495  0.000031  0.995049    0.0   0.0   4.931325  \n",
       "1     0  0.00495  0.000031  0.995049    0.0   0.0   4.959238  \n",
       "2     0  0.00495  0.000031  0.995049    0.0   0.0   4.902490  \n",
       "3     0  0.00495  0.000025  0.995049    0.0   0.0   4.937027  \n",
       "4     0  0.00495  0.000025  0.995049    0.0   0.0   4.948431  "
      ]
     },
     "execution_count": 52,
     "metadata": {},
     "output_type": "execute_result"
    }
   ],
   "source": [
    "header = \"exec_number,iteration,opt,str_tour,result,iterations,goal,rho,tau_min,tau_max,alpha,beta\".split(',')\n",
    "df = pd.read_csv('./results/gr202/20170710-213627.csv', index_col=None, header=None, names=header)\n",
    "df['deviation'] = (df['result'] - df['opt']) / df['opt']\n",
    "df.head()"
   ]
  },
  {
   "cell_type": "code",
   "execution_count": 53,
   "metadata": {
    "collapsed": false
   },
   "outputs": [],
   "source": [
    "table = pd.pivot_table(df, values='deviation', index=['alpha'], columns=['beta'], aggfunc=np.average)"
   ]
  },
  {
   "cell_type": "code",
   "execution_count": 54,
   "metadata": {
    "collapsed": false
   },
   "outputs": [
    {
     "data": {
      "text/html": [
       "<div>\n",
       "<table border=\"1\" class=\"dataframe\">\n",
       "  <thead>\n",
       "    <tr style=\"text-align: right;\">\n",
       "      <th>beta</th>\n",
       "      <th>0.0</th>\n",
       "      <th>1.0</th>\n",
       "      <th>2.0</th>\n",
       "      <th>3.0</th>\n",
       "      <th>4.0</th>\n",
       "    </tr>\n",
       "    <tr>\n",
       "      <th>alpha</th>\n",
       "      <th></th>\n",
       "      <th></th>\n",
       "      <th></th>\n",
       "      <th></th>\n",
       "      <th></th>\n",
       "    </tr>\n",
       "  </thead>\n",
       "  <tbody>\n",
       "    <tr>\n",
       "      <th>0.0</th>\n",
       "      <td>4.935702</td>\n",
       "      <td>3.140598</td>\n",
       "      <td>1.360647</td>\n",
       "      <td>0.656285</td>\n",
       "      <td>0.385309</td>\n",
       "    </tr>\n",
       "    <tr>\n",
       "      <th>1.0</th>\n",
       "      <td>4.837336</td>\n",
       "      <td>1.053695</td>\n",
       "      <td>0.236708</td>\n",
       "      <td>0.145478</td>\n",
       "      <td>0.121305</td>\n",
       "    </tr>\n",
       "    <tr>\n",
       "      <th>2.0</th>\n",
       "      <td>3.412874</td>\n",
       "      <td>0.136798</td>\n",
       "      <td>0.075528</td>\n",
       "      <td>0.070862</td>\n",
       "      <td>0.057874</td>\n",
       "    </tr>\n",
       "    <tr>\n",
       "      <th>3.0</th>\n",
       "      <td>3.876240</td>\n",
       "      <td>0.180105</td>\n",
       "      <td>0.102072</td>\n",
       "      <td>0.089666</td>\n",
       "      <td>0.073581</td>\n",
       "    </tr>\n",
       "    <tr>\n",
       "      <th>4.0</th>\n",
       "      <td>4.034716</td>\n",
       "      <td>0.226125</td>\n",
       "      <td>0.100374</td>\n",
       "      <td>0.094074</td>\n",
       "      <td>0.099910</td>\n",
       "    </tr>\n",
       "  </tbody>\n",
       "</table>\n",
       "</div>"
      ],
      "text/plain": [
       "beta        0.0       1.0       2.0       3.0       4.0\n",
       "alpha                                                  \n",
       "0.0    4.935702  3.140598  1.360647  0.656285  0.385309\n",
       "1.0    4.837336  1.053695  0.236708  0.145478  0.121305\n",
       "2.0    3.412874  0.136798  0.075528  0.070862  0.057874\n",
       "3.0    3.876240  0.180105  0.102072  0.089666  0.073581\n",
       "4.0    4.034716  0.226125  0.100374  0.094074  0.099910"
      ]
     },
     "execution_count": 54,
     "metadata": {},
     "output_type": "execute_result"
    }
   ],
   "source": [
    "table"
   ]
  },
  {
   "cell_type": "code",
   "execution_count": 61,
   "metadata": {
    "collapsed": false
   },
   "outputs": [
    {
     "data": {
      "image/png": "[encoded data removed]",
      "text/plain": [
       "<matplotlib.figure.Figure at 0x109ea4d68>"
      ]
     },
     "metadata": {},
     "output_type": "display_data"
    }
   ],
   "source": [
    "sns.heatmap(table, cmap='RdYlGn_r', linewidths=0.5, annot=True, fmt='.2%')\n",
    "plt.savefig('./plots/alpha-beta-heatmap.png')\n",
    "plt.show()"
   ]
  },
  {
   "cell_type": "code",
   "execution_count": null,
   "metadata": {
    "collapsed": true
   },
   "outputs": [],
   "source": []
  }
 ],
 "metadata": {
  "kernelspec": {
   "display_name": "dsg17",
   "language": "python",
   "name": "dsg17"
  },
  "language_info": {
   "codemirror_mode": {
    "name": "ipython",
    "version": 3
   },
   "file_extension": ".py",
   "mimetype": "text/x-python",
   "name": "python",
   "nbconvert_exporter": "python",
   "pygments_lexer": "ipython3",
   "version": "3.6.1"
  }
 },
 "nbformat": 4,
 "nbformat_minor": 2
}
